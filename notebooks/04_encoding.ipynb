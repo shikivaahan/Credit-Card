{
 "cells": [
  {
   "cell_type": "code",
   "execution_count": 1,
   "metadata": {},
   "outputs": [
    {
     "data": {
      "text/plain": [
       "0"
      ]
     },
     "execution_count": 1,
     "metadata": {},
     "output_type": "execute_result"
    }
   ],
   "source": [
    "import pandas as pd\n",
    "import gc\n",
    "import sys\n",
    "import os\n",
    "from sklearn.preprocessing import LabelEncoder\n",
    "import pandas as pd\n",
    "import seaborn as sns\n",
    "import matplotlib.pyplot as plt\n",
    "\n",
    "src_path = os.path.abspath(r'C:\\Users\\User\\OneDrive - Imperial College London\\Desktop\\Documents\\GitHub\\Credit-Card\\src')\n",
    "sys.path.append(src_path)\n",
    "\n",
    "from feature_engineering.encoding import group_low_frequency_categories, encode_categories, log_encode\n",
    "from data.db_functions import query_data\n",
    "from data.clean_data import update_dtypes\n",
    "\n",
    "gc.collect()"
   ]
  },
  {
   "cell_type": "code",
   "execution_count": 2,
   "metadata": {},
   "outputs": [
    {
     "data": {
      "text/html": [
       "<div>\n",
       "<style scoped>\n",
       "    .dataframe tbody tr th:only-of-type {\n",
       "        vertical-align: middle;\n",
       "    }\n",
       "\n",
       "    .dataframe tbody tr th {\n",
       "        vertical-align: top;\n",
       "    }\n",
       "\n",
       "    .dataframe thead th {\n",
       "        text-align: right;\n",
       "    }\n",
       "</style>\n",
       "<table border=\"1\" class=\"dataframe\">\n",
       "  <thead>\n",
       "    <tr style=\"text-align: right;\">\n",
       "      <th></th>\n",
       "      <th>business_id</th>\n",
       "      <th>auth_status</th>\n",
       "      <th>eci</th>\n",
       "      <th>descriptor</th>\n",
       "      <th>auth_failure_reason</th>\n",
       "      <th>charge_failure_reason</th>\n",
       "      <th>amount</th>\n",
       "      <th>authorized_amount</th>\n",
       "      <th>mid_label</th>\n",
       "      <th>bank_merchant_id</th>\n",
       "      <th>...</th>\n",
       "      <th>country</th>\n",
       "      <th>currency</th>\n",
       "      <th>ip_address</th>\n",
       "      <th>masked_card_number</th>\n",
       "      <th>card_holder_name</th>\n",
       "      <th>card_type</th>\n",
       "      <th>is_blocked_by_fraud</th>\n",
       "      <th>is_cvn_submitted</th>\n",
       "      <th>should_authenticate_credit_card</th>\n",
       "      <th>should_settle_directly</th>\n",
       "    </tr>\n",
       "  </thead>\n",
       "  <tbody>\n",
       "    <tr>\n",
       "      <th>0</th>\n",
       "      <td>5f990dcd1b1e373cc8c95e95</td>\n",
       "      <td>USED</td>\n",
       "      <td>5.0</td>\n",
       "      <td>XL PRIORITAS</td>\n",
       "      <td>NaN</td>\n",
       "      <td>NaN</td>\n",
       "      <td>166500.0</td>\n",
       "      <td>166500.0</td>\n",
       "      <td>XLAXIATA2DS_BCA_MPGS</td>\n",
       "      <td>001198763</td>\n",
       "      <td>...</td>\n",
       "      <td>INDONESIA</td>\n",
       "      <td>IDR</td>\n",
       "      <td>NaN</td>\n",
       "      <td>47264730XXXX1758</td>\n",
       "      <td>NaN</td>\n",
       "      <td>CREDIT</td>\n",
       "      <td>False</td>\n",
       "      <td>True</td>\n",
       "      <td>False</td>\n",
       "      <td>True</td>\n",
       "    </tr>\n",
       "    <tr>\n",
       "      <th>1</th>\n",
       "      <td>610cff461363cd43a57308f2</td>\n",
       "      <td>USED</td>\n",
       "      <td>5.0</td>\n",
       "      <td>BLIBLI-BLI-RETAIL-DESCRIPTOR</td>\n",
       "      <td>NaN</td>\n",
       "      <td>NaN</td>\n",
       "      <td>2089480.0</td>\n",
       "      <td>2089480.0</td>\n",
       "      <td>Blibli_BCA_PG</td>\n",
       "      <td>000005000933414</td>\n",
       "      <td>...</td>\n",
       "      <td>INDONESIA</td>\n",
       "      <td>IDR</td>\n",
       "      <td>139.0.131.136</td>\n",
       "      <td>18898015XXXX6004</td>\n",
       "      <td>IRFAN</td>\n",
       "      <td>CREDIT</td>\n",
       "      <td>False</td>\n",
       "      <td>True</td>\n",
       "      <td>True</td>\n",
       "      <td>True</td>\n",
       "    </tr>\n",
       "    <tr>\n",
       "      <th>2</th>\n",
       "      <td>610cff461363cd43a57308f2</td>\n",
       "      <td>USED</td>\n",
       "      <td>NaN</td>\n",
       "      <td>BLIBLI-BLI-DIGITAL-DESCRIPTOR</td>\n",
       "      <td>NaN</td>\n",
       "      <td>NaN</td>\n",
       "      <td>4892200.0</td>\n",
       "      <td>4892200.0</td>\n",
       "      <td>BLIBLI_BRI</td>\n",
       "      <td>001999145083</td>\n",
       "      <td>...</td>\n",
       "      <td>INDONESIA</td>\n",
       "      <td>IDR</td>\n",
       "      <td>114.10.99.29</td>\n",
       "      <td>55200233XXXX7003</td>\n",
       "      <td>Robi</td>\n",
       "      <td>CREDIT</td>\n",
       "      <td>False</td>\n",
       "      <td>True</td>\n",
       "      <td>False</td>\n",
       "      <td>True</td>\n",
       "    </tr>\n",
       "    <tr>\n",
       "      <th>3</th>\n",
       "      <td>5bfe0e8c97ad396f3b87d9d7</td>\n",
       "      <td>USED</td>\n",
       "      <td>5.0</td>\n",
       "      <td>PT GLOBAL TIKET NETWORK-xendit charge #1259139...</td>\n",
       "      <td>NaN</td>\n",
       "      <td>NaN</td>\n",
       "      <td>1639540.0</td>\n",
       "      <td>1639540.0</td>\n",
       "      <td>TIKET_3DS_ECOMM</td>\n",
       "      <td>tiket_3ds_ecomm</td>\n",
       "      <td>...</td>\n",
       "      <td>INDONESIA</td>\n",
       "      <td>IDR</td>\n",
       "      <td>110.137.194.152</td>\n",
       "      <td>41050509XXXX5844</td>\n",
       "      <td>NaN</td>\n",
       "      <td>CREDIT</td>\n",
       "      <td>False</td>\n",
       "      <td>True</td>\n",
       "      <td>False</td>\n",
       "      <td>True</td>\n",
       "    </tr>\n",
       "    <tr>\n",
       "      <th>4</th>\n",
       "      <td>5bfe0e8c97ad396f3b87d9d7</td>\n",
       "      <td>USED</td>\n",
       "      <td>NaN</td>\n",
       "      <td>PT GLOBAL TIKET NETWORK-xendit charge #1260880...</td>\n",
       "      <td>NaN</td>\n",
       "      <td>NaN</td>\n",
       "      <td>2131400.0</td>\n",
       "      <td>2131400.0</td>\n",
       "      <td>TIKET_3DS_ECOMM</td>\n",
       "      <td>tiket_3ds_ecomm</td>\n",
       "      <td>...</td>\n",
       "      <td>INDONESIA</td>\n",
       "      <td>IDR</td>\n",
       "      <td>182.2.4.194</td>\n",
       "      <td>54264000XXXX3978</td>\n",
       "      <td>NaN</td>\n",
       "      <td>CREDIT</td>\n",
       "      <td>False</td>\n",
       "      <td>True</td>\n",
       "      <td>False</td>\n",
       "      <td>True</td>\n",
       "    </tr>\n",
       "  </tbody>\n",
       "</table>\n",
       "<p>5 rows × 28 columns</p>\n",
       "</div>"
      ],
      "text/plain": [
       "                business_id auth_status  eci  \\\n",
       "0  5f990dcd1b1e373cc8c95e95        USED  5.0   \n",
       "1  610cff461363cd43a57308f2        USED  5.0   \n",
       "2  610cff461363cd43a57308f2        USED  NaN   \n",
       "3  5bfe0e8c97ad396f3b87d9d7        USED  5.0   \n",
       "4  5bfe0e8c97ad396f3b87d9d7        USED  NaN   \n",
       "\n",
       "                                          descriptor  auth_failure_reason  \\\n",
       "0                                       XL PRIORITAS                  NaN   \n",
       "1                       BLIBLI-BLI-RETAIL-DESCRIPTOR                  NaN   \n",
       "2                      BLIBLI-BLI-DIGITAL-DESCRIPTOR                  NaN   \n",
       "3  PT GLOBAL TIKET NETWORK-xendit charge #1259139...                  NaN   \n",
       "4  PT GLOBAL TIKET NETWORK-xendit charge #1260880...                  NaN   \n",
       "\n",
       "  charge_failure_reason     amount  authorized_amount             mid_label  \\\n",
       "0                   NaN   166500.0           166500.0  XLAXIATA2DS_BCA_MPGS   \n",
       "1                   NaN  2089480.0          2089480.0         Blibli_BCA_PG   \n",
       "2                   NaN  4892200.0          4892200.0            BLIBLI_BRI   \n",
       "3                   NaN  1639540.0          1639540.0       TIKET_3DS_ECOMM   \n",
       "4                   NaN  2131400.0          2131400.0       TIKET_3DS_ECOMM   \n",
       "\n",
       "  bank_merchant_id  ...    country currency       ip_address  \\\n",
       "0        001198763  ...  INDONESIA      IDR              NaN   \n",
       "1  000005000933414  ...  INDONESIA      IDR    139.0.131.136   \n",
       "2     001999145083  ...  INDONESIA      IDR     114.10.99.29   \n",
       "3  tiket_3ds_ecomm  ...  INDONESIA      IDR  110.137.194.152   \n",
       "4  tiket_3ds_ecomm  ...  INDONESIA      IDR      182.2.4.194   \n",
       "\n",
       "  masked_card_number card_holder_name  card_type  is_blocked_by_fraud  \\\n",
       "0   47264730XXXX1758              NaN     CREDIT                False   \n",
       "1   18898015XXXX6004            IRFAN     CREDIT                False   \n",
       "2   55200233XXXX7003             Robi     CREDIT                False   \n",
       "3   41050509XXXX5844              NaN     CREDIT                False   \n",
       "4   54264000XXXX3978              NaN     CREDIT                False   \n",
       "\n",
       "  is_cvn_submitted should_authenticate_credit_card should_settle_directly  \n",
       "0             True                           False                   True  \n",
       "1             True                            True                   True  \n",
       "2             True                           False                   True  \n",
       "3             True                           False                   True  \n",
       "4             True                           False                   True  \n",
       "\n",
       "[5 rows x 28 columns]"
      ]
     },
     "execution_count": 2,
     "metadata": {},
     "output_type": "execute_result"
    }
   ],
   "source": [
    "df = pd.read_csv(r'C:\\Users\\User\\OneDrive - Imperial College London\\Desktop\\Documents\\GitHub\\Credit-Card\\data\\raw\\New_Query_2024-09-07_10_51pm_2024_09_20.csv')\n",
    "df.head()"
   ]
  },
  {
   "cell_type": "code",
   "execution_count": 3,
   "metadata": {},
   "outputs": [
    {
     "name": "stdout",
     "output_type": "stream",
     "text": [
      "Total rows: 1000\n",
      "Number of rows dropped: 0\n"
     ]
    },
    {
     "data": {
      "text/plain": [
       "business_id                              category\n",
       "auth_status                              category\n",
       "eci                                      category\n",
       "descriptor                               category\n",
       "auth_failure_reason                      category\n",
       "charge_failure_reason                    category\n",
       "amount                                    float32\n",
       "authorized_amount                         float32\n",
       "mid_label                                category\n",
       "bank_merchant_id                         category\n",
       "capture_amount                            float32\n",
       "created                            datetime64[ns]\n",
       "authentication_type                      category\n",
       "card_bank                                category\n",
       "card_brand                               category\n",
       "card_expiration_month                        int8\n",
       "card_expiration_year                        int16\n",
       "cavv                                     category\n",
       "country                                  category\n",
       "currency                                 category\n",
       "ip_address                               category\n",
       "masked_card_number                 string[python]\n",
       "card_holder_name                         category\n",
       "card_type                                category\n",
       "is_blocked_by_fraud                       boolean\n",
       "is_cvn_submitted                             bool\n",
       "should_authenticate_credit_card           boolean\n",
       "should_settle_directly                    boolean\n",
       "dtype: object"
      ]
     },
     "execution_count": 3,
     "metadata": {},
     "output_type": "execute_result"
    }
   ],
   "source": [
    "df = update_dtypes(df)\n",
    "\n",
    "df.dtypes"
   ]
  },
  {
   "cell_type": "code",
   "execution_count": 4,
   "metadata": {},
   "outputs": [],
   "source": [
    "encoding_strategy = {\n",
    "    \"business_id\": \"frequency\",\n",
    "    \"auth_status\": \"label\",\n",
    "    \"eci\": \"label\",\n",
    "    \"descriptor\": \"label\",\n",
    "    \"auth_failure_reason\": \"label\",\n",
    "    \"charge_failure_reason\": \"label\",\n",
    "    \"mid_label\": \"label\",\n",
    "    \"bank_merchant_id\": \"frequency\",\n",
    "    \"authentication_type\": \"label\",\n",
    "    \"card_bank\": \"label\",\n",
    "    \"card_brand\": \"label\",\n",
    "    \"cavv\": \"label\",\n",
    "    \"country\": \"label\",\n",
    "    \"currency\": \"label\",\n",
    "    \"ip_address\": \"frequency or target\",\n",
    "    \"card_holder_name\": \"frequency\",\n",
    "    \"card_type\": \"label\"\n",
    "}\n",
    "\n",
    "df = encode_categories(df)"
   ]
  },
  {
   "cell_type": "code",
   "execution_count": 5,
   "metadata": {},
   "outputs": [
    {
     "name": "stdout",
     "output_type": "stream",
     "text": [
      "descriptor: 246 --> 27 unique categories\n",
      "mid_label: 61 --> 8 unique categories\n",
      "card_bank: 153 --> 17 unique categories\n"
     ]
    }
   ],
   "source": [
    "columns = ['descriptor', 'mid_label', 'card_bank'] \n",
    "df = group_low_frequency_categories(df)"
   ]
  },
  {
   "cell_type": "code",
   "execution_count": 6,
   "metadata": {},
   "outputs": [
    {
     "data": {
      "image/png": "[encoded data removed]",
      "text/plain": [
       "<Figure size 1000x600 with 1 Axes>"
      ]
     },
     "metadata": {},
     "output_type": "display_data"
    }
   ],
   "source": [
    "col = 'card_expiration_year'\n",
    "plt.figure(figsize=(10, 6))\n",
    "plt.hist(df[col], bins=30, edgecolor='black')\n",
    "plt.title(f'Frequency Distribution of {col}')\n",
    "plt.xlabel(col)\n",
    "plt.ylabel('Frequency')\n",
    "plt.grid(axis='y')\n",
    "plt.show()"
   ]
  },
  {
   "cell_type": "code",
   "execution_count": 7,
   "metadata": {},
   "outputs": [
    {
     "name": "stderr",
     "output_type": "stream",
     "text": [
      "c:\\Users\\User\\AppData\\Local\\Programs\\Python\\Python312\\Lib\\site-packages\\pandas\\core\\arraylike.py:399: RuntimeWarning: divide by zero encountered in log\n",
      "  result = getattr(ufunc, method)(*inputs, **kwargs)\n"
     ]
    }
   ],
   "source": [
    "df = log_encode(df)"
   ]
  },
  {
   "cell_type": "code",
   "execution_count": 8,
   "metadata": {},
   "outputs": [
    {
     "data": {
      "image/png": "[encoded data removed]",
      "text/plain": [
       "<Figure size 1000x600 with 1 Axes>"
      ]
     },
     "metadata": {},
     "output_type": "display_data"
    }
   ],
   "source": [
    "plt.figure(figsize=(10, 6))\n",
    "plt.hist(df[col], bins=30, edgecolor='black')\n",
    "plt.title(f'Frequency Distribution of {col} encoded')\n",
    "plt.xlabel(col)\n",
    "plt.ylabel('Frequency')\n",
    "plt.grid(axis='y')\n",
    "plt.show()"
   ]
  }
 ],
 "metadata": {
  "kernelspec": {
   "display_name": "Python 3",
   "language": "python",
   "name": "python3"
  },
  "language_info": {
   "codemirror_mode": {
    "name": "ipython",
    "version": 3
   },
   "file_extension": ".py",
   "mimetype": "text/x-python",
   "name": "python",
   "nbconvert_exporter": "python",
   "pygments_lexer": "ipython3",
   "version": "3.12.3"
  }
 },
 "nbformat": 4,
 "nbformat_minor": 2
}
