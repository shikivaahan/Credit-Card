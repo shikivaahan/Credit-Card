{
 "cells": [
  {
   "cell_type": "code",
   "execution_count": 1,
   "metadata": {},
   "outputs": [
    {
     "data": {
      "text/plain": [
       "0"
      ]
     },
     "execution_count": 1,
     "metadata": {},
     "output_type": "execute_result"
    }
   ],
   "source": [
    "import pandas as pd\n",
    "import gc\n",
    "import sys\n",
    "import os\n",
    "from sklearn.preprocessing import LabelEncoder\n",
    "import pandas as pd\n",
    "import seaborn as sns\n",
    "import matplotlib.pyplot as plt\n",
    "import sqlite3\n",
    "src_path = os.path.abspath(r'C:\\Users\\User\\OneDrive - Imperial College London\\Desktop\\Documents\\GitHub\\Credit-Card\\src')\n",
    "sys.path.append(src_path)\n",
    "\n",
    "from adtk.data import validate_series\n",
    "from adtk.detector import ThresholdAD\n",
    "from adtk.visualization import plot\n",
    "\n",
    "from feature_engineering.encoding import group_low_frequency_categories, encode_categories, log_encode\n",
    "from feature_engineering.new_features import calculate_time_delta, extract_bin, extract_check_digit, extract_datetime_component, average_transactions_per_time\n",
    "from data.db_functions import query_data\n",
    "from data.clean_data import update_dtypes\n",
    "\n",
    "gc.collect()"
   ]
  },
  {
   "cell_type": "code",
   "execution_count": 2,
   "metadata": {},
   "outputs": [
    {
     "data": {
      "text/plain": [
       "business_id                         object\n",
       "auth_status                         object\n",
       "eci                                 object\n",
       "descriptor                          object\n",
       "auth_failure_reason                 object\n",
       "charge_failure_reason               object\n",
       "amount                             float64\n",
       "authorized_amount                  float64\n",
       "mid_label                           object\n",
       "bank_merchant_id                    object\n",
       "capture_amount                     float64\n",
       "created                             object\n",
       "authentication_type                 object\n",
       "card_bank                           object\n",
       "card_brand                          object\n",
       "card_expiration_month                int64\n",
       "card_expiration_year                 int64\n",
       "cavv                                object\n",
       "country                             object\n",
       "currency                            object\n",
       "ip_address                          object\n",
       "masked_card_number                  object\n",
       "card_holder_name                    object\n",
       "card_type                           object\n",
       "is_blocked_by_fraud                  int64\n",
       "is_cvn_submitted                     int64\n",
       "should_authenticate_credit_card      int64\n",
       "should_settle_directly               int64\n",
       "dtype: object"
      ]
     },
     "execution_count": 2,
     "metadata": {},
     "output_type": "execute_result"
    }
   ],
   "source": [
    "db_dir = r'C:\\Users\\User\\OneDrive - Imperial College London\\Desktop\\Documents\\GitHub\\Credit-Card\\data\\database (SQLite)\\raw_data.db'\n",
    "\n",
    "query = \"SELECT * FROM raw_data WHERE business_id IN ('640fdf71d95a90ebc209167d')\"\n",
    "\n",
    "with sqlite3.connect(db_dir) as conn:\n",
    "    df = pd.read_sql_query(query, conn)\n",
    "\n",
    "\n",
    "df.head()\n",
    "df.shape\n",
    "df.dtypes"
   ]
  },
  {
   "cell_type": "code",
   "execution_count": 3,
   "metadata": {},
   "outputs": [
    {
     "name": "stderr",
     "output_type": "stream",
     "text": [
      "C:\\Users\\User\\OneDrive - Imperial College London\\Desktop\\Documents\\GitHub\\Credit-Card\\src\\data\\clean_data.py:76: FutureWarning: Downcasting behavior in `replace` is deprecated and will be removed in a future version. To retain the old behavior, explicitly call `result.infer_objects(copy=False)`. To opt-in to the future behavior, set `pd.set_option('future.no_silent_downcasting', True)`\n",
      "  df[column] = df[column].replace({1: True, 0: False, 'true': True, 'false': False, 'True': True, 'False': False}).astype('boolean')\n"
     ]
    },
    {
     "name": "stdout",
     "output_type": "stream",
     "text": [
      "Total rows: 1463123\n",
      "Number of rows dropped: 0\n",
      "NaN values in each column:\n",
      "auth_failure_reason      1461430\n",
      "charge_failure_reason     446239\n",
      "ip_address               1461739\n",
      "card_holder_name         1461739\n",
      "dtype: int64\n"
     ]
    }
   ],
   "source": [
    "df = update_dtypes(df)\n",
    "df.dtypes\n",
    "\n",
    "df = df.dropna(subset=['created'])\n",
    "\n",
    "nan_counts = df.isna().sum()\n",
    "print(\"NaN values in each column:\")\n",
    "print(nan_counts[nan_counts > 0])"
   ]
  },
  {
   "cell_type": "code",
   "execution_count": 4,
   "metadata": {},
   "outputs": [
    {
     "name": "stderr",
     "output_type": "stream",
     "text": [
      "C:\\Users\\User\\OneDrive - Imperial College London\\Desktop\\Documents\\GitHub\\Credit-Card\\src\\feature_engineering\\new_features.py:28: FutureWarning: The default of observed=False is deprecated and will be changed to True in a future version of pandas. Pass observed=False to retain current behavior or observed=True to adopt the future default and silence this warning.\n",
      "  time_delta = df.groupby(ref_col)[time_col].diff().dt.total_seconds()\n"
     ]
    },
    {
     "name": "stdout",
     "output_type": "stream",
     "text": [
      "NaN values in each column:\n",
      "auth_failure_reason      1461430\n",
      "charge_failure_reason     446239\n",
      "ip_address               1461739\n",
      "card_holder_name         1461739\n",
      "business_delta                 1\n",
      "bin_delta                  10395\n",
      "dtype: int64\n"
     ]
    },
    {
     "data": {
      "text/plain": [
       "Index(['business_id', 'auth_status', 'eci', 'descriptor',\n",
       "       'auth_failure_reason', 'charge_failure_reason', 'amount',\n",
       "       'authorized_amount', 'mid_label', 'bank_merchant_id', 'capture_amount',\n",
       "       'created', 'authentication_type', 'card_bank', 'card_brand',\n",
       "       'card_expiration_month', 'card_expiration_year', 'cavv', 'country',\n",
       "       'currency', 'ip_address', 'masked_card_number', 'card_holder_name',\n",
       "       'card_type', 'is_blocked_by_fraud', 'is_cvn_submitted',\n",
       "       'should_authenticate_credit_card', 'should_settle_directly', 'card_bin',\n",
       "       'check_digit', 'business_delta', 'bin_delta', 'month', 'day', 'hour',\n",
       "       'minute', 'time', 'mean_transactions_time'],\n",
       "      dtype='object')"
      ]
     },
     "execution_count": 4,
     "metadata": {},
     "output_type": "execute_result"
    }
   ],
   "source": [
    "df['card_bin'] = extract_bin(df, 'masked_card_number')\n",
    "df['check_digit'] = extract_check_digit(df, 'masked_card_number')\n",
    "df['business_delta'] = calculate_time_delta(df, 'created', 'business_id')\n",
    "df['bin_delta'] = calculate_time_delta(df, 'created', 'card_bin')\n",
    "df['month'] = extract_datetime_component(df, 'created', 'month')\n",
    "df['day'] = extract_datetime_component(df, 'created', 'day')\n",
    "df['hour'] = extract_datetime_component(df, 'created', 'hour')\n",
    "df['minute'] = extract_datetime_component(df, 'created', 'minute')\n",
    "df['time'] = extract_datetime_component(df, 'created', 'time')\n",
    "df['mean_transactions_time'] = average_transactions_per_time(df, 'time')\n",
    "\n",
    "nan_counts = df.isna().sum()\n",
    "print(\"NaN values in each column:\")\n",
    "print(nan_counts[nan_counts > 0])\n",
    "df.columns"
   ]
  },
  {
   "cell_type": "code",
   "execution_count": 7,
   "metadata": {},
   "outputs": [
    {
     "name": "stdout",
     "output_type": "stream",
     "text": [
      "Bin Range: (-22572.84, 225728.402], Count: 1427363\n",
      "Bin Range: (225728.402, 451456.804], Count: 6041\n",
      "Bin Range: (451456.804, 677185.206], Count: 3100\n",
      "Bin Range: (677185.206, 902913.608], Count: 2338\n",
      "Bin Range: (902913.608, 1128642.01], Count: 1345\n",
      "Bin Range: (1128642.01, 1354370.412], Count: 1128\n",
      "Bin Range: (1354370.412, 1580098.814], Count: 1223\n",
      "Bin Range: (1580098.814, 1805827.216], Count: 797\n",
      "Bin Range: (1805827.216, 2031555.618], Count: 911\n",
      "Bin Range: (2031555.618, 2257284.02], Count: 493\n",
      "Bin Range: (2257284.02, 2483012.422], Count: 404\n",
      "Bin Range: (2483012.422, 2708740.824], Count: 553\n",
      "Bin Range: (2708740.824, 2934469.225], Count: 456\n",
      "Bin Range: (2934469.225, 3160197.627], Count: 495\n",
      "Bin Range: (3160197.627, 3385926.029], Count: 324\n",
      "Bin Range: (3385926.029, 3611654.431], Count: 287\n",
      "Bin Range: (3611654.431, 3837382.833], Count: 217\n",
      "Bin Range: (3837382.833, 4063111.235], Count: 217\n",
      "Bin Range: (4063111.235, 4288839.637], Count: 194\n",
      "Bin Range: (4288839.637, 4514568.039], Count: 216\n",
      "Bin Range: (4514568.039, 4740296.441], Count: 212\n",
      "Bin Range: (4740296.441, 4966024.843], Count: 249\n",
      "Bin Range: (4966024.843, 5191753.245], Count: 175\n",
      "Bin Range: (5191753.245, 5417481.647], Count: 129\n",
      "Bin Range: (5417481.647, 5643210.049], Count: 139\n",
      "Bin Range: (5643210.049, 5868938.451], Count: 139\n",
      "Bin Range: (5868938.451, 6094666.853], Count: 106\n",
      "Bin Range: (6094666.853, 6320395.255], Count: 84\n",
      "Bin Range: (6320395.255, 6546123.657], Count: 82\n",
      "Bin Range: (6546123.657, 6771852.059], Count: 66\n",
      "Bin Range: (6771852.059, 6997580.461], Count: 74\n",
      "Bin Range: (6997580.461, 7223308.863], Count: 74\n",
      "Bin Range: (7223308.863, 7449037.265], Count: 73\n",
      "Bin Range: (7449037.265, 7674765.667], Count: 71\n",
      "Bin Range: (7674765.667, 7900494.069], Count: 50\n",
      "Bin Range: (7900494.069, 8126222.471], Count: 45\n",
      "Bin Range: (8126222.471, 8351950.873], Count: 54\n",
      "Bin Range: (8351950.873, 8577679.274], Count: 48\n",
      "Bin Range: (8577679.274, 8803407.676], Count: 58\n",
      "Bin Range: (8803407.676, 9029136.078], Count: 57\n",
      "Bin Range: (9029136.078, 9254864.48], Count: 56\n",
      "Bin Range: (9254864.48, 9480592.882], Count: 36\n",
      "Bin Range: (9480592.882, 9706321.284], Count: 43\n",
      "Bin Range: (9706321.284, 9932049.686], Count: 40\n",
      "Bin Range: (9932049.686, 10157778.088], Count: 35\n",
      "Bin Range: (10157778.088, 10383506.49], Count: 30\n",
      "Bin Range: (10383506.49, 10609234.892], Count: 40\n",
      "Bin Range: (10609234.892, 10834963.294], Count: 40\n",
      "Bin Range: (10834963.294, 11060691.696], Count: 40\n",
      "Bin Range: (11060691.696, 11286420.098], Count: 39\n",
      "Bin Range: (11286420.098, 11512148.5], Count: 23\n",
      "Bin Range: (11512148.5, 11737876.902], Count: 39\n",
      "Bin Range: (11737876.902, 11963605.304], Count: 29\n",
      "Bin Range: (11963605.304, 12189333.706], Count: 32\n",
      "Bin Range: (12189333.706, 12415062.108], Count: 44\n",
      "Bin Range: (12415062.108, 12640790.51], Count: 32\n",
      "Bin Range: (12640790.51, 12866518.912], Count: 47\n",
      "Bin Range: (12866518.912, 13092247.314], Count: 35\n",
      "Bin Range: (13092247.314, 13317975.716], Count: 41\n",
      "Bin Range: (13317975.716, 13543704.118], Count: 27\n",
      "Bin Range: (13543704.118, 13769432.52], Count: 35\n",
      "Bin Range: (13769432.52, 13995160.922], Count: 35\n",
      "Bin Range: (13995160.922, 14220889.323], Count: 26\n",
      "Bin Range: (14220889.323, 14446617.725], Count: 27\n",
      "Bin Range: (14446617.725, 14672346.127], Count: 22\n",
      "Bin Range: (14672346.127, 14898074.529], Count: 14\n",
      "Bin Range: (14898074.529, 15123802.931], Count: 23\n",
      "Bin Range: (15123802.931, 15349531.333], Count: 24\n",
      "Bin Range: (15349531.333, 15575259.735], Count: 18\n",
      "Bin Range: (15575259.735, 15800988.137], Count: 20\n",
      "Bin Range: (15800988.137, 16026716.539], Count: 22\n",
      "Bin Range: (16026716.539, 16252444.941], Count: 24\n",
      "Bin Range: (16252444.941, 16478173.343], Count: 18\n",
      "Bin Range: (16478173.343, 16703901.745], Count: 17\n",
      "Bin Range: (16703901.745, 16929630.147], Count: 18\n",
      "Bin Range: (16929630.147, 17155358.549], Count: 11\n",
      "Bin Range: (17155358.549, 17381086.951], Count: 11\n",
      "Bin Range: (17381086.951, 17606815.353], Count: 11\n",
      "Bin Range: (17606815.353, 17832543.755], Count: 10\n",
      "Bin Range: (17832543.755, 18058272.157], Count: 8\n",
      "Bin Range: (18058272.157, 18284000.559], Count: 14\n",
      "Bin Range: (18284000.559, 18509728.961], Count: 10\n",
      "Bin Range: (18509728.961, 18735457.363], Count: 15\n",
      "Bin Range: (18735457.363, 18961185.765], Count: 7\n",
      "Bin Range: (18961185.765, 19186914.167], Count: 11\n",
      "Bin Range: (19186914.167, 19412642.569], Count: 6\n",
      "Bin Range: (19412642.569, 19638370.971], Count: 7\n",
      "Bin Range: (19638370.971, 19864099.372], Count: 4\n",
      "Bin Range: (19864099.372, 20089827.774], Count: 2\n",
      "Bin Range: (20089827.774, 20315556.176], Count: 5\n",
      "Bin Range: (20315556.176, 20541284.578], Count: 4\n",
      "Bin Range: (20541284.578, 20767012.98], Count: 2\n",
      "Bin Range: (20767012.98, 20992741.382], Count: 1\n",
      "Bin Range: (20992741.382, 21218469.784], Count: 1\n",
      "Bin Range: (21218469.784, 21444198.186], Count: 4\n",
      "Bin Range: (21444198.186, 21669926.588], Count: 4\n",
      "Bin Range: (21669926.588, 21895654.99], Count: 10\n",
      "Bin Range: (21895654.99, 22121383.392], Count: 3\n",
      "Bin Range: (22121383.392, 22347111.794], Count: 2\n",
      "Bin Range: (22347111.794, 22572840.196], Count: 3\n"
     ]
    }
   ],
   "source": [
    "# Create 100 bins\n",
    "df['bin_detlta_bins'] = pd.cut(df['bin_delta'], bins=100)\n",
    "\n",
    "# Calculate value counts of each bin\n",
    "value_counts = df['bin_detlta_bins'].value_counts().sort_index()\n",
    "\n",
    "# Print the value counts and bin ranges\n",
    "for bin_range, count in value_counts.items():\n",
    "    print(f\"Bin Range: {bin_range}, Count: {count}\")"
   ]
  },
  {
   "cell_type": "code",
   "execution_count": 6,
   "metadata": {},
   "outputs": [
    {
     "data": {
      "text/plain": [
       "3575"
      ]
     },
     "execution_count": 6,
     "metadata": {},
     "output_type": "execute_result"
    }
   ],
   "source": [
    "gc.collect()\n",
    "\n",
    "\n",
    "# time delta business\n",
    "# time delta card\n",
    "# time delta same card but diff merchant\n",
    "# various time accelerations diff of diff\n",
    "# sliding time window approach"
   ]
  }
 ],
 "metadata": {
  "kernelspec": {
   "display_name": "Python 3",
   "language": "python",
   "name": "python3"
  },
  "language_info": {
   "codemirror_mode": {
    "name": "ipython",
    "version": 3
   },
   "file_extension": ".py",
   "mimetype": "text/x-python",
   "name": "python",
   "nbconvert_exporter": "python",
   "pygments_lexer": "ipython3",
   "version": "3.12.3"
  }
 },
 "nbformat": 4,
 "nbformat_minor": 2
}
