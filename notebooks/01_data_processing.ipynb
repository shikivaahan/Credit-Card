{
 "cells": [
  {
   "cell_type": "code",
   "execution_count": 14,
   "metadata": {},
   "outputs": [
    {
     "data": {
      "text/plain": [
       "7"
      ]
     },
     "execution_count": 14,
     "metadata": {},
     "output_type": "execute_result"
    }
   ],
   "source": [
    "import pandas as pd\n",
    "import sqlite3\n",
    "import gc\n",
    "import sys\n",
    "import os\n",
    "\n",
    "src_path = os.path.abspath(r'C:\\Users\\User\\OneDrive - Imperial College London\\Desktop\\Documents\\GitHub\\Credit-Card\\src')\n",
    "sys.path.append(src_path)\n",
    "\n",
    "from data.clean_data import drop_columns_if_exist, update_dtypes\n",
    "from data.to_database import save_to_sqlite\n",
    "\n",
    "gc.collect()"
   ]
  },
  {
   "cell_type": "code",
   "execution_count": 2,
   "metadata": {},
   "outputs": [],
   "source": [
    "df = pd.read_parquet(r'C:\\Users\\User\\OneDrive - Imperial College London\\Desktop\\Documents\\GitHub\\Credit-Card\\data\\raw\\all_2023q3_2024q1_FULL.parquet')\n",
    "df_auth = pd.read_parquet(r'C:\\Users\\User\\OneDrive - Imperial College London\\Desktop\\Documents\\GitHub\\Credit-Card\\data\\raw\\authenticated_2023q3_2024q1_FULL.parquet')"
   ]
  },
  {
   "cell_type": "code",
   "execution_count": 3,
   "metadata": {},
   "outputs": [],
   "source": [
    "df = df.dropna(axis=1, how='all')\n",
    "df_auth = df_auth.dropna(axis=1, how='all')"
   ]
  },
  {
   "cell_type": "code",
   "execution_count": 4,
   "metadata": {},
   "outputs": [],
   "source": [
    "# Columns to drop\n",
    "columns_to_drop = [\n",
    "    'callback_url', 'credit_card_token', 'order', 'order_id', 'return_url', 'payment_method_id',\n",
    "    'payment_processor_response', 'ucaf_authentication_data', 'ucaf_collection_indicator', 'xid',\n",
    "    'language', 'merchant_url', 'three_ds_method_data', 'is_auto_timeout', 'token_type',\n",
    "    'request_token', 'merchant_name', 'merchant_reference_code', 'descriptor', 'metadata',\n",
    "    'internal_metadata', 'rewards', 'promotion', 'vat_amount', 'api_version', 'authorization_id',\n",
    "    'authorization_additional_data', 'authorization_receipt_number', 'authorization_request_token',\n",
    "    'assessment_id', 'authorization_response', 'capture_response', 'mid_label', 'network_token_id',\n",
    "    'processor_response', 'retrieval_reference_number', 'card_data_id', 'capture_request_id',\n",
    "    'masked_card_number', 'original_id', 'installment', 'fee_label', 'transaction_id', 'version',\n",
    "    'authentication_id', 'authorization_request_id', 'system_trace_audit_number', 'is_cvn_submitted',\n",
    "    'pares_status', 'processor_type', 'proof_xml', 'redirect_html', 'md', 'pa_req',\n",
    "    'referer', 'request_id', 'term_url', 'three_ds_result','three_ds_version', 'user_agent', 'veres_enrolled', \n",
    "    'x_forwarded_for', 'initiate_three_ds_url', 'authentication_verification_response', 'authentication_transaction_id',\n",
    "    'acs_url','initial_client_type', 'directory_server_transaction_id', 'billing_details', 'cc_version'\n",
    "]"
   ]
  },
  {
   "cell_type": "code",
   "execution_count": 5,
   "metadata": {},
   "outputs": [],
   "source": [
    "df = drop_columns_if_exist(df, columns_to_drop)\n",
    "df_auth = drop_columns_if_exist(df_auth, columns_to_drop)"
   ]
  },
  {
   "cell_type": "code",
   "execution_count": 6,
   "metadata": {},
   "outputs": [
    {
     "name": "stdout",
     "output_type": "stream",
     "text": [
      "df shape: (391604, 51)\n",
      "df_auth shape: (475066, 30)\n"
     ]
    }
   ],
   "source": [
    "# Replace non-finite values (NaN, inf) with a placeholder (e.g., -1)\n",
    "df['card_expiration_month'] = pd.to_numeric(df['card_expiration_month'], errors='coerce').fillna(-1).astype(int)\n",
    "df['card_expiration_year'] = pd.to_numeric(df['card_expiration_year'], errors='coerce').fillna(-1).astype(int)\n",
    "\n",
    "\n",
    "print(f\"df shape: {df.shape}\")\n",
    "print(f\"df_auth shape: {df_auth.shape}\")\n"
   ]
  },
  {
   "cell_type": "code",
   "execution_count": 7,
   "metadata": {},
   "outputs": [],
   "source": [
    "# Define dtypes for conversion\n",
    "df_dtypes = {\n",
    "    'id': 'category', 'acquiring_bank_name': 'category', 'approval_code': 'category',\n",
    "    'authorization_transaction_date': 'datetime64[ns]', 'authorized_amount': 'float32',\n",
    "    'avs_code': 'category', 'bank_merchant_id': 'category', 'bank_reconciliation_id': 'category',\n",
    "    'business_id': 'category', 'capture_amount': 'float32', 'card_brand': 'category',\n",
    "    'card_expiration_month': 'int8', 'card_expiration_year': 'int16', 'card_holder_name': 'category',\n",
    "    'card_type': 'category', 'cavv': 'category', 'cc_version': 'category', 'charge_type': 'category',\n",
    "    'client_id': 'category', 'client_type': 'category', 'country': 'category', 'country_code': 'category',\n",
    "    'created': 'datetime64[ns]', 'credit_card_payment_channel': 'category', 'credit_card_processor': 'category',\n",
    "    'credit_card_token_id': 'category', 'currency': 'category', 'cvn_code': 'category', 'eci': 'category',\n",
    "    'external_id': 'category', 'failure_reason': 'category', 'fee_amount': 'float32', 'is_blocked_by_fraud': 'bool',\n",
    "    'is_switcher': 'bool', 'is_t4': 'bool', 'issuing_bank_name': 'category', 'merchant_id': 'category',\n",
    "    'refund_status': 'category', 'requester_email': 'category', 'reversed_amount': 'float32',\n",
    "    'settlement_status': 'category', 'settlement_updated': 'datetime64[ns]', 'should_authenticate_credit_card': 'bool',\n",
    "    'should_settle_directly': 'bool', 'status': 'category', 'total_refund_amount': 'float32',\n",
    "    'total_refund_fee_amount': 'float32', 'transaction_channel': 'category', 'ucaf': 'category',\n",
    "    'updated': 'datetime64[ns]', 'user_id': 'category', 'use_reward': 'category', 'dt': 'datetime64[ns]',\n",
    "    'amount': 'float32', 'authentication_type': 'category', 'card_bank': 'category', 'commerce_indicator': 'category',\n",
    "    'credit_card_enrollment_info': 'category', 'cybersource_merchant_id': 'category', 'eci_raw': 'category', 'ip_address': 'category',\n",
    "    'is_enrolled': 'bool', 'cof_type': 'category' \n",
    "    \n",
    "}\n"
   ]
  },
  {
   "cell_type": "code",
   "execution_count": 8,
   "metadata": {},
   "outputs": [
    {
     "name": "stdout",
     "output_type": "stream",
     "text": [
      "Total rows: 391604\n",
      "Number of rows dropped: 0\n",
      "Total rows: 475066\n",
      "Number of rows dropped: 0\n"
     ]
    }
   ],
   "source": [
    "# Apply conversions\n",
    "df = update_dtypes(df, df_dtypes)\n",
    "df_auth = update_dtypes(df_auth, df_dtypes)"
   ]
  },
  {
   "cell_type": "code",
   "execution_count": 10,
   "metadata": {},
   "outputs": [
    {
     "data": {
      "text/plain": [
       "id                                       category\n",
       "acquiring_bank_name                      category\n",
       "approval_code                            category\n",
       "authorization_transaction_date     datetime64[ns]\n",
       "authorized_amount                         float32\n",
       "avs_code                                 category\n",
       "bank_merchant_id                         category\n",
       "bank_reconciliation_id                   category\n",
       "business_id                              category\n",
       "capture_amount                            float32\n",
       "card_brand                               category\n",
       "card_expiration_month                        int8\n",
       "card_expiration_year                        int16\n",
       "card_holder_name                         category\n",
       "card_type                                category\n",
       "cavv                                     category\n",
       "charge_type                              category\n",
       "client_id                                category\n",
       "client_type                              category\n",
       "country                                  category\n",
       "country_code                             category\n",
       "created                            datetime64[ns]\n",
       "credit_card_payment_channel              category\n",
       "credit_card_processor                    category\n",
       "credit_card_token_id                     category\n",
       "currency                                 category\n",
       "cvn_code                                 category\n",
       "eci                                      category\n",
       "external_id                              category\n",
       "failure_reason                           category\n",
       "fee_amount                                float32\n",
       "is_blocked_by_fraud                       boolean\n",
       "is_switcher                               boolean\n",
       "is_t4                                     boolean\n",
       "issuing_bank_name                        category\n",
       "merchant_id                              category\n",
       "refund_status                            category\n",
       "requester_email                          category\n",
       "reversed_amount                           float32\n",
       "settlement_status                        category\n",
       "settlement_updated                 datetime64[ns]\n",
       "should_authenticate_credit_card           boolean\n",
       "should_settle_directly                    boolean\n",
       "status                                   category\n",
       "total_refund_amount                       float32\n",
       "total_refund_fee_amount                   float32\n",
       "transaction_channel                      category\n",
       "ucaf                                     category\n",
       "updated                            datetime64[ns]\n",
       "use_reward                               category\n",
       "dt                                 datetime64[ns]\n",
       "dtype: object"
      ]
     },
     "execution_count": 10,
     "metadata": {},
     "output_type": "execute_result"
    }
   ],
   "source": [
    "df.dtypes"
   ]
  },
  {
   "cell_type": "code",
   "execution_count": 12,
   "metadata": {},
   "outputs": [
    {
     "data": {
      "text/plain": [
       "id                                   category\n",
       "amount                                float32\n",
       "authentication_type                  category\n",
       "business_id                          category\n",
       "card_bank                            category\n",
       "card_brand                           category\n",
       "card_expiration_month                    int8\n",
       "card_expiration_year                    int16\n",
       "cavv                                 category\n",
       "client_id                            category\n",
       "client_type                          category\n",
       "commerce_indicator                   category\n",
       "country                              category\n",
       "country_code                         category\n",
       "created                        datetime64[ns]\n",
       "credit_card_enrollment_info          category\n",
       "credit_card_payment_channel          category\n",
       "credit_card_token_id                 category\n",
       "currency                             category\n",
       "cybersource_merchant_id              category\n",
       "eci                                  category\n",
       "eci_raw                              category\n",
       "external_id                          category\n",
       "failure_reason                       category\n",
       "ip_address                           category\n",
       "is_enrolled                           boolean\n",
       "status                               category\n",
       "updated                        datetime64[ns]\n",
       "cof_type                             category\n",
       "dt                             datetime64[ns]\n",
       "dtype: object"
      ]
     },
     "execution_count": 12,
     "metadata": {},
     "output_type": "execute_result"
    }
   ],
   "source": [
    "df_auth.dtypes"
   ]
  },
  {
   "cell_type": "code",
   "execution_count": 16,
   "metadata": {},
   "outputs": [],
   "source": [
    "# Define database file paths\n",
    "save_dir = r'C:\\Users\\User\\OneDrive - Imperial College London\\Desktop\\Documents\\GitHub\\Credit-Card\\data\\database (SQLite)' \n",
    "\n",
    "db_df = os.path.join(save_dir, 'processed_data.db')\n",
    "db_df_auth = os.path.join(save_dir, 'processed_authenticated_data.db')"
   ]
  },
  {
   "cell_type": "code",
   "execution_count": 17,
   "metadata": {},
   "outputs": [
    {
     "name": "stdout",
     "output_type": "stream",
     "text": [
      "DataFrames have been stored as SQLite databases.\n"
     ]
    }
   ],
   "source": [
    "save_to_sqlite(df, db_df, 'data')\n",
    "save_to_sqlite(df_auth, db_df_auth, 'authenticated_data')\n",
    "\n",
    "# Clean up memory\n",
    "gc.collect()\n",
    "\n",
    "print(\"DataFrames have been stored as SQLite databases.\")"
   ]
  }
 ],
 "metadata": {
  "kernelspec": {
   "display_name": "Python 3",
   "language": "python",
   "name": "python3"
  },
  "language_info": {
   "codemirror_mode": {
    "name": "ipython",
    "version": 3
   },
   "file_extension": ".py",
   "mimetype": "text/x-python",
   "name": "python",
   "nbconvert_exporter": "python",
   "pygments_lexer": "ipython3",
   "version": "3.12.3"
  }
 },
 "nbformat": 4,
 "nbformat_minor": 2
}
