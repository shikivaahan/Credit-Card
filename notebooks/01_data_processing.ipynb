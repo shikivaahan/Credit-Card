{
 "cells": [
  {
   "cell_type": "code",
   "execution_count": 1,
   "metadata": {},
   "outputs": [
    {
     "data": {
      "text/plain": [
       "0"
      ]
     },
     "execution_count": 1,
     "metadata": {},
     "output_type": "execute_result"
    }
   ],
   "source": [
    "import pandas as pd\n",
    "\n",
    "import gc\n",
    "import sys\n",
    "import os\n",
    "\n",
    "src_path = os.path.abspath(r'C:\\Users\\User\\OneDrive - Imperial College London\\Desktop\\Documents\\GitHub\\Credit-Card\\src')\n",
    "sys.path.append(src_path)\n",
    "\n",
    "from data.clean_data import drop_columns_if_exist, update_dtypes\n",
    "from data.db_functions import save_to_sqlite\n",
    "\n",
    "gc.collect()"
   ]
  },
  {
   "cell_type": "code",
   "execution_count": 2,
   "metadata": {},
   "outputs": [
    {
     "name": "stderr",
     "output_type": "stream",
     "text": [
      "C:\\Users\\User\\AppData\\Local\\Temp\\ipykernel_14296\\1197734430.py:1: DtypeWarning: Columns (26) have mixed types. Specify dtype option on import or set low_memory=False.\n",
      "  df = pd.read_csv(r'C:\\Users\\User\\OneDrive - Imperial College London\\Desktop\\Documents\\GitHub\\Credit-Card\\data\\raw\\New_Query_2024-09-07_10_51pm_2024_09_21.csv')\n"
     ]
    }
   ],
   "source": [
    "df = pd.read_csv(r'C:\\Users\\User\\OneDrive - Imperial College London\\Desktop\\Documents\\GitHub\\Credit-Card\\data\\raw\\New_Query_2024-09-07_10_51pm_2024_09_21.csv')\n",
    "df = df.dropna(axis=1, how='all')"
   ]
  },
  {
   "cell_type": "code",
   "execution_count": 3,
   "metadata": {},
   "outputs": [
    {
     "name": "stdout",
     "output_type": "stream",
     "text": [
      "df shape: (3553562, 28)\n"
     ]
    }
   ],
   "source": [
    "# Replace non-finite values (NaN, inf) with a placeholder (e.g., -1)\n",
    "df['card_expiration_month'] = pd.to_numeric(df['card_expiration_month'], errors='coerce').fillna(0).astype(int)\n",
    "df['card_expiration_year'] = pd.to_numeric(df['card_expiration_year'], errors='coerce').fillna(0).astype(int)\n",
    "\n",
    "\n",
    "print(f\"df shape: {df.shape}\")"
   ]
  },
  {
   "cell_type": "code",
   "execution_count": 4,
   "metadata": {},
   "outputs": [],
   "source": [
    "# Define dtypes for conversion\n",
    "df_dtypes = {\n",
    "    'id': 'category', 'acquiring_bank_name': 'category', 'approval_code': 'category',\n",
    "    'authorization_transaction_date': 'datetime64[ns]', 'authorized_amount': 'float32',\n",
    "    'avs_code': 'category', 'bank_merchant_id': 'category', 'bank_reconciliation_id': 'category',\n",
    "    'business_id': 'category', 'capture_amount': 'float32', 'card_brand': 'category',\n",
    "    'card_expiration_month': 'int8', 'card_expiration_year': 'int16', 'card_holder_name': 'category',\n",
    "    'card_type': 'category', 'cavv': 'category', 'cc_version': 'category', 'charge_type': 'category',\n",
    "    'client_id': 'category', 'client_type': 'category', 'country': 'category', 'country_code': 'category',\n",
    "    'created': 'datetime64[ns]', 'credit_card_payment_channel': 'category', 'credit_card_processor': 'category',\n",
    "    'credit_card_token_id': 'category', 'currency': 'category', 'cvn_code': 'category', 'eci': 'category',\n",
    "    'external_id': 'category', 'failure_reason': 'category', 'fee_amount': 'float32', 'is_blocked_by_fraud': 'bool',\n",
    "    'is_switcher': 'bool', 'is_t4': 'bool', 'issuing_bank_name': 'category', 'merchant_id': 'category',\n",
    "    'refund_status': 'category', 'requester_email': 'category', 'reversed_amount': 'float32',\n",
    "    'settlement_status': 'category', 'settlement_updated': 'datetime64[ns]', 'should_authenticate_credit_card': 'bool',\n",
    "    'should_settle_directly': 'bool', 'status': 'category', 'total_refund_amount': 'float32',\n",
    "    'total_refund_fee_amount': 'float32', 'transaction_channel': 'category', 'ucaf': 'category',\n",
    "    'updated': 'datetime64[ns]', 'user_id': 'category', 'use_reward': 'category', 'dt': 'datetime64[ns]',\n",
    "    'amount': 'float32', 'authentication_type': 'category', 'card_bank': 'category', 'commerce_indicator': 'category',\n",
    "    'credit_card_enrollment_info': 'category', 'cybersource_merchant_id': 'category', 'eci_raw': 'category', 'ip_address': 'category',\n",
    "    'is_enrolled': 'bool', 'cof_type': 'category' \n",
    "    \n",
    "}\n"
   ]
  },
  {
   "cell_type": "code",
   "execution_count": 5,
   "metadata": {},
   "outputs": [
    {
     "name": "stdout",
     "output_type": "stream",
     "text": [
      "Total rows: 3553562\n",
      "Number of rows dropped: 0\n"
     ]
    }
   ],
   "source": [
    "# Apply conversions\n",
    "df = update_dtypes(df, df_dtypes)"
   ]
  },
  {
   "cell_type": "code",
   "execution_count": 6,
   "metadata": {},
   "outputs": [
    {
     "data": {
      "text/plain": [
       "business_id                              category\n",
       "auth_status                                object\n",
       "eci                                      category\n",
       "descriptor                                 object\n",
       "auth_failure_reason                        object\n",
       "charge_failure_reason                      object\n",
       "amount                                    float32\n",
       "authorized_amount                         float32\n",
       "mid_label                                  object\n",
       "bank_merchant_id                         category\n",
       "capture_amount                            float32\n",
       "created                            datetime64[ns]\n",
       "authentication_type                      category\n",
       "card_bank                                category\n",
       "card_brand                               category\n",
       "card_expiration_month                        int8\n",
       "card_expiration_year                        int16\n",
       "cavv                                     category\n",
       "country                                  category\n",
       "currency                                 category\n",
       "ip_address                               category\n",
       "masked_card_number                         object\n",
       "card_holder_name                         category\n",
       "card_type                                category\n",
       "is_blocked_by_fraud                       boolean\n",
       "is_cvn_submitted                             bool\n",
       "should_authenticate_credit_card           boolean\n",
       "should_settle_directly                    boolean\n",
       "dtype: object"
      ]
     },
     "execution_count": 6,
     "metadata": {},
     "output_type": "execute_result"
    }
   ],
   "source": [
    "df.dtypes"
   ]
  },
  {
   "cell_type": "code",
   "execution_count": 7,
   "metadata": {},
   "outputs": [],
   "source": [
    "# Define database file paths\n",
    "save_dir = r'C:\\Users\\User\\OneDrive - Imperial College London\\Desktop\\Documents\\GitHub\\Credit-Card\\data\\database (SQLite)' \n",
    "\n",
    "db_df = os.path.join(save_dir, 'raw_data.db')"
   ]
  },
  {
   "cell_type": "code",
   "execution_count": 8,
   "metadata": {},
   "outputs": [
    {
     "name": "stdout",
     "output_type": "stream",
     "text": [
      "DataFrame has been stored as SQLite databases.\n"
     ]
    }
   ],
   "source": [
    "save_to_sqlite(df, db_df, 'raw_data')\n",
    "\n",
    "# Clean up memory\n",
    "gc.collect()\n",
    "\n",
    "print(\"DataFrame has been stored as SQLite databases.\")"
   ]
  }
 ],
 "metadata": {
  "kernelspec": {
   "display_name": "Python 3",
   "language": "python",
   "name": "python3"
  },
  "language_info": {
   "codemirror_mode": {
    "name": "ipython",
    "version": 3
   },
   "file_extension": ".py",
   "mimetype": "text/x-python",
   "name": "python",
   "nbconvert_exporter": "python",
   "pygments_lexer": "ipython3",
   "version": "3.12.3"
  }
 },
 "nbformat": 4,
 "nbformat_minor": 2
}
