{
 "cells": [
  {
   "cell_type": "code",
   "execution_count": 1,
   "metadata": {},
   "outputs": [
    {
     "data": {
      "text/plain": [
       "0"
      ]
     },
     "execution_count": 1,
     "metadata": {},
     "output_type": "execute_result"
    }
   ],
   "source": [
    "import pandas as pd\n",
    "\n",
    "import gc\n",
    "import sys\n",
    "import os\n",
    "\n",
    "src_path = os.path.abspath(r'C:\\Users\\User\\OneDrive - Imperial College London\\Desktop\\Documents\\GitHub\\Credit-Card\\src')\n",
    "sys.path.append(src_path)\n",
    "\n",
    "from data.clean_data import drop_columns_if_exist, update_dtypes\n",
    "from data.db_functions import save_to_sqlite\n",
    "\n",
    "gc.collect()"
   ]
  },
  {
   "cell_type": "code",
   "execution_count": 2,
   "metadata": {},
   "outputs": [
    {
     "name": "stderr",
     "output_type": "stream",
     "text": [
      "C:\\Users\\User\\AppData\\Local\\Temp\\ipykernel_23812\\1197734430.py:1: DtypeWarning: Columns (26) have mixed types. Specify dtype option on import or set low_memory=False.\n",
      "  df = pd.read_csv(r'C:\\Users\\User\\OneDrive - Imperial College London\\Desktop\\Documents\\GitHub\\Credit-Card\\data\\raw\\New_Query_2024-09-07_10_51pm_2024_09_21.csv')\n"
     ]
    }
   ],
   "source": [
    "df = pd.read_csv(r'C:\\Users\\User\\OneDrive - Imperial College London\\Desktop\\Documents\\GitHub\\Credit-Card\\data\\raw\\New_Query_2024-09-07_10_51pm_2024_09_21.csv')\n",
    "df = df.dropna(axis=1, how='all')"
   ]
  },
  {
   "cell_type": "code",
   "execution_count": 11,
   "metadata": {},
   "outputs": [
    {
     "name": "stdout",
     "output_type": "stream",
     "text": [
      "df shape: (3553562, 28)\n"
     ]
    }
   ],
   "source": [
    "# Replace non-finite values (NaN, inf) with a placeholder (e.g., -1)\n",
    "df['card_expiration_month'] = pd.to_numeric(df['card_expiration_month'], errors='coerce').fillna(0).astype(int)\n",
    "df['card_expiration_year'] = pd.to_numeric(df['card_expiration_year'], errors='coerce').fillna(0).astype(int)\n",
    "\n",
    "\n",
    "print(f\"df shape: {df.shape}\")"
   ]
  },
  {
   "cell_type": "code",
   "execution_count": 12,
   "metadata": {},
   "outputs": [],
   "source": [
    "# Define database file paths\n",
    "save_dir = r'C:\\Users\\User\\OneDrive - Imperial College London\\Desktop\\Documents\\GitHub\\Credit-Card\\data\\database (SQLite)' \n",
    "\n",
    "db_df = os.path.join(save_dir, 'raw_data.db')"
   ]
  },
  {
   "cell_type": "code",
   "execution_count": 14,
   "metadata": {},
   "outputs": [
    {
     "name": "stdout",
     "output_type": "stream",
     "text": [
      "DataFrame has been stored as SQLite databases.\n"
     ]
    }
   ],
   "source": [
    "save_to_sqlite(df, db_df, 'raw_data')\n",
    "\n",
    "# Clean up memory\n",
    "gc.collect()\n",
    "\n",
    "print(\"DataFrame has been stored as SQLite databases.\")"
   ]
  }
 ],
 "metadata": {
  "kernelspec": {
   "display_name": "Python 3",
   "language": "python",
   "name": "python3"
  },
  "language_info": {
   "codemirror_mode": {
    "name": "ipython",
    "version": 3
   },
   "file_extension": ".py",
   "mimetype": "text/x-python",
   "name": "python",
   "nbconvert_exporter": "python",
   "pygments_lexer": "ipython3",
   "version": "3.12.3"
  }
 },
 "nbformat": 4,
 "nbformat_minor": 2
}
