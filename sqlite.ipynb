{
 "cells": [
  {
   "cell_type": "code",
   "execution_count": 26,
   "metadata": {},
   "outputs": [],
   "source": [
    "import pandas as pd\n",
    "import sqlite3\n",
    "import gc"
   ]
  },
  {
   "cell_type": "code",
   "execution_count": 27,
   "metadata": {},
   "outputs": [],
   "source": [
    "# Function to drop columns if they exist in the DataFrame\n",
    "def drop_columns_if_exist(df, columns_to_drop):\n",
    "    columns_to_drop_existing = [col for col in columns_to_drop if col in df.columns]\n",
    "    return df.drop(columns=columns_to_drop_existing, errors='ignore')\n",
    "\n",
    "# Function to convert and clean DataFrame\n",
    "def convert_and_clean_dataframe(df, dtype_dict):\n",
    "    total_rows = len(df)\n",
    "    rows_dropped = 0\n",
    "    drop_indices = []\n",
    "\n",
    "    for column, dtype in dtype_dict.items():\n",
    "        if column in df.columns:\n",
    "            try:\n",
    "                if dtype == 'datetime64[ns]':\n",
    "                    df[column] = pd.to_datetime(df[column], errors='coerce')\n",
    "                elif dtype == 'float32':\n",
    "                    df[column] = pd.to_numeric(df[column], errors='coerce').astype('float32')\n",
    "                elif dtype == 'int8':\n",
    "                    df[column] = pd.to_numeric(df[column], errors='coerce').astype('int8')\n",
    "                elif dtype == 'int16':\n",
    "                    df[column] = pd.to_numeric(df[column], errors='coerce').astype('int16')\n",
    "                elif dtype == 'bool':\n",
    "                    df[column] = df[column].replace({1: True, 0: False, 'true': True, 'false': False, 'True': True, 'False': False}).astype('boolean')\n",
    "                elif dtype == 'category':\n",
    "                    df[column] = df[column].astype('category')\n",
    "            except Exception as e:\n",
    "                print(f\"Error converting column '{column}': {e}\")\n",
    "                drop_indices.extend(df.index[df[column].isna()])\n",
    "\n",
    "    drop_indices = set(drop_indices)\n",
    "    df = df.drop(index=drop_indices)\n",
    "    rows_dropped = len(drop_indices)\n",
    "    print(f\"Total rows: {total_rows}\")\n",
    "    print(f\"Number of rows dropped: {rows_dropped}\")\n",
    "\n",
    "    return df\n",
    "\n",
    "# Drop all NaN columns\n",
    "def drop_na_columns(df):\n",
    "    return df.dropna(axis=1, how='all')"
   ]
  },
  {
   "cell_type": "code",
   "execution_count": 28,
   "metadata": {},
   "outputs": [
    {
     "name": "stderr",
     "output_type": "stream",
     "text": [
      "C:\\Users\\User\\AppData\\Local\\Temp\\ipykernel_23532\\751461843.py:8: DtypeWarning: Columns (3,7,9,11,12,13,14,20,39,47,52,53,54,55,62,70,71,78,79) have mixed types. Specify dtype option on import or set low_memory=False.\n",
      "  df = pd.read_csv('all_2023q3_2024q1_FULL.csv')\n",
      "C:\\Users\\User\\AppData\\Local\\Temp\\ipykernel_23532\\751461843.py:9: DtypeWarning: Columns (43,50,52,60,73,74,75) have mixed types. Specify dtype option on import or set low_memory=False.\n",
      "  df_auth = pd.read_csv('authenticated_2023q3_2024q1_FULL.csv')\n"
     ]
    }
   ],
   "source": [
    "# Initialize garbage collection\n",
    "gc.collect()\n",
    "\n",
    "# auth id\n",
    "# all authentication_id\n",
    "\n",
    "# Read in the parquet files\n",
    "df = pd.read_parquet('all_2023q3_2024q1_FULL.parquet')\n",
    "df_auth = pd.read_parquet('authenticated_2023q3_2024q1_FULL.parquet')\n",
    "\n",
    "# df = pd.read_csv('all_2023q3_2024q1_FULL.csv')\n",
    "# df_auth = pd.read_csv('authenticated_2023q3_2024q1_FULL.csv')\n",
    "\n",
    "\n",
    "# Get the column names of each DataFrame\n",
    "columns_df = set(df.columns)\n",
    "columns_df_auth = set(df_auth.columns)\n",
    "\n",
    "# Find the common columns\n",
    "common_columns = columns_df.intersection(columns_df_auth)\n"
   ]
  },
  {
   "cell_type": "code",
   "execution_count": 29,
   "metadata": {},
   "outputs": [
    {
     "name": "stdout",
     "output_type": "stream",
     "text": [
      "df shape: (391604, 51)\n",
      "df_auth shape: (475066, 30)\n"
     ]
    }
   ],
   "source": [
    "# Drop NaN columns\n",
    "df = drop_na_columns(df)\n",
    "df_auth = drop_na_columns(df_auth)\n",
    "\n",
    "# Columns to drop\n",
    "columns_to_drop = [\n",
    "    'callback_url', 'credit_card_token', 'order', 'order_id', 'return_url', 'payment_method_id',\n",
    "    'payment_processor_response', 'ucaf_authentication_data', 'ucaf_collection_indicator', 'xid',\n",
    "    'language', 'merchant_url', 'three_ds_method_data', 'is_auto_timeout', 'token_type',\n",
    "    'request_token', 'merchant_name', 'merchant_reference_code', 'descriptor', 'metadata',\n",
    "    'internal_metadata', 'rewards', 'promotion', 'vat_amount', 'api_version', 'authorization_id',\n",
    "    'authorization_additional_data', 'authorization_receipt_number', 'authorization_request_token',\n",
    "    'assessment_id', 'authorization_response', 'capture_response', 'mid_label', 'network_token_id',\n",
    "    'processor_response', 'retrieval_reference_number', 'card_data_id', 'capture_request_id',\n",
    "    'masked_card_number', 'original_id', 'installment', 'fee_label', 'transaction_id', 'version',\n",
    "    'authentication_id', 'authorization_request_id', 'system_trace_audit_number', 'is_cvn_submitted',\n",
    "    'pares_status', 'processor_type', 'proof_xml', 'redirect_html', 'md', 'pa_req',\n",
    "    'referer', 'request_id', 'term_url', 'three_ds_result','three_ds_version', 'user_agent', 'veres_enrolled', \n",
    "    'x_forwarded_for', 'initiate_three_ds_url', 'authentication_verification_response', 'authentication_transaction_id',\n",
    "    'acs_url','initial_client_type', 'directory_server_transaction_id', 'billing_details', 'cc_version'\n",
    "]\n",
    "\n",
    "df = drop_columns_if_exist(df, columns_to_drop)\n",
    "df_auth = drop_columns_if_exist(df_auth, columns_to_drop)\n",
    "\n",
    "# Replace non-finite values (NaN, inf) with a placeholder (e.g., -1)\n",
    "df['card_expiration_month'] = pd.to_numeric(df['card_expiration_month'], errors='coerce').fillna(-1).astype(int)\n",
    "df['card_expiration_year'] = pd.to_numeric(df['card_expiration_year'], errors='coerce').fillna(-1).astype(int)\n",
    "\n",
    "\n",
    "print(f\"df shape: {df.shape}\")\n",
    "print(f\"df_auth shape: {df_auth.shape}\")\n"
   ]
  },
  {
   "cell_type": "code",
   "execution_count": 30,
   "metadata": {},
   "outputs": [
    {
     "name": "stderr",
     "output_type": "stream",
     "text": [
      "C:\\Users\\User\\AppData\\Local\\Temp\\ipykernel_23532\\3579349412.py:16: UserWarning: Could not infer format, so each element will be parsed individually, falling back to `dateutil`. To ensure parsing is consistent and as-expected, please specify a format.\n",
      "  df[column] = pd.to_datetime(df[column], errors='coerce')\n"
     ]
    },
    {
     "name": "stdout",
     "output_type": "stream",
     "text": [
      "Total rows: 391604\n",
      "Number of rows dropped: 0\n",
      "Total rows: 475066\n",
      "Number of rows dropped: 0\n"
     ]
    }
   ],
   "source": [
    "# Define dtypes for conversion\n",
    "df_dtypes = {\n",
    "    'id': 'category', 'acquiring_bank_name': 'category', 'approval_code': 'category',\n",
    "    'authorization_transaction_date': 'datetime64[ns]', 'authorized_amount': 'float32',\n",
    "    'avs_code': 'category', 'bank_merchant_id': 'category', 'bank_reconciliation_id': 'category',\n",
    "    'business_id': 'category', 'capture_amount': 'float32', 'card_brand': 'category',\n",
    "    'card_expiration_month': 'int8', 'card_expiration_year': 'int16', 'card_holder_name': 'category',\n",
    "    'card_type': 'category', 'cavv': 'category', 'cc_version': 'category', 'charge_type': 'category',\n",
    "    'client_id': 'category', 'client_type': 'category', 'country': 'category', 'country_code': 'category',\n",
    "    'created': 'datetime64[ns]', 'credit_card_payment_channel': 'category', 'credit_card_processor': 'category',\n",
    "    'credit_card_token_id': 'category', 'currency': 'category', 'cvn_code': 'category', 'eci': 'category',\n",
    "    'external_id': 'category', 'failure_reason': 'category', 'fee_amount': 'float32', 'is_blocked_by_fraud': 'bool',\n",
    "    'is_switcher': 'bool', 'is_t4': 'bool', 'issuing_bank_name': 'category', 'merchant_id': 'category',\n",
    "    'refund_status': 'category', 'requester_email': 'category', 'reversed_amount': 'float32',\n",
    "    'settlement_status': 'category', 'settlement_updated': 'datetime64[ns]', 'should_authenticate_credit_card': 'bool',\n",
    "    'should_settle_directly': 'bool', 'status': 'category', 'total_refund_amount': 'float32',\n",
    "    'total_refund_fee_amount': 'float32', 'transaction_channel': 'category', 'ucaf': 'category',\n",
    "    'updated': 'datetime64[ns]', 'user_id': 'category', 'use_reward': 'category', 'dt': 'datetime64[ns]',\n",
    "    'amount': 'float32', 'authentication_type': 'category', 'card_bank': 'category', 'commerce_indicator': 'category',\n",
    "    'credit_card_enrollment_info': 'category', 'cybersource_merchant_id': 'category', 'eci_raw': 'category', 'ip_address': 'category',\n",
    "    'is_enrolled': 'bool', 'cof_type': 'category' \n",
    "    \n",
    "}\n",
    "\n",
    "# Apply conversions\n",
    "df = convert_and_clean_dataframe(df, df_dtypes)\n",
    "df_auth = convert_and_clean_dataframe(df_auth, df_dtypes)"
   ]
  },
  {
   "cell_type": "code",
   "execution_count": 31,
   "metadata": {},
   "outputs": [],
   "source": [
    "df = df.dropna(axis=1, how='all')\n",
    "df_auth = df_auth.dropna(axis=1, how='all')"
   ]
  },
  {
   "cell_type": "code",
   "execution_count": 32,
   "metadata": {},
   "outputs": [],
   "source": [
    "# SQLite database file paths\n",
    "db_df = 'processed_data.db'\n",
    "db_df_auth = 'processed_authenticated_data.db'\n",
    "\n",
    "# # Save DataFrames to SQLite databases\n",
    "# with sqlite3.connect(db_df) as conn:\n",
    "#     df.to_sql('data', conn, if_exists='replace', index=False)\n",
    "\n",
    "# with sqlite3.connect(db_df_auth) as conn:\n",
    "#     df_auth.to_sql('authenticated_data', conn, if_exists='replace', index=False)\n",
    "\n",
    "# # Clean up memory\n",
    "# gc.collect()\n",
    "\n",
    "# print(\"DataFrames have been stored as SQLite databases.\")"
   ]
  },
  {
   "cell_type": "code",
   "execution_count": 33,
   "metadata": {},
   "outputs": [
    {
     "name": "stdout",
     "output_type": "stream",
     "text": [
      "                         id acquiring_bank_name approval_code  \\\n",
      "0  659fa7e925318000172adce8                 BRI          None   \n",
      "1  659ff3b0a92e00001739b745             PAYMAYA          None   \n",
      "2  659ffff56b277d0015703571                 BRI          None   \n",
      "3  659f47fe6b277d00156f4807             MANDIRI        003216   \n",
      "4  659fc31097c57900179939d9           GLOBALPAY        395526   \n",
      "\n",
      "   authorized_amount avs_code bank_merchant_id bank_reconciliation_id  \\\n",
      "0          5028000.0     None     001988030000                   None   \n",
      "1             8800.0        U        103496912                   None   \n",
      "2          1065000.0     None     001988030000                   None   \n",
      "3         11774700.0        U      71000832716              570803281   \n",
      "4             1318.0     None     073006686104                   None   \n",
      "\n",
      "                business_id  capture_amount  card_brand  ...  \\\n",
      "0  6450899466adc6a21e7bfde7       5028000.0        VISA  ...   \n",
      "1  651b7f011256decfdac0b60d          8800.0        VISA  ...   \n",
      "2  61b6dd80815a0e497f30f95e       1065000.0  MASTERCARD  ...   \n",
      "3  5e303041b5d1b3536121c825      11774700.0        VISA  ...   \n",
      "4  640fdf71d95a90ebc209167d          1318.0  MASTERCARD  ...   \n",
      "\n",
      "   should_authenticate_credit_card  should_settle_directly    status  \\\n",
      "0                              1.0                       0    FAILED   \n",
      "1                              1.0                       0    FAILED   \n",
      "2                              1.0                       0    FAILED   \n",
      "3                              0.0                       1  CAPTURED   \n",
      "4                              1.0                       1  CAPTURED   \n",
      "\n",
      "  total_refund_amount total_refund_fee_amount transaction_channel  \\\n",
      "0                 NaN                     NaN             DEFAULT   \n",
      "1                 NaN                     NaN             DEFAULT   \n",
      "2                 NaN                     NaN             DEFAULT   \n",
      "3            396900.0                     0.0             DEFAULT   \n",
      "4                 NaN                     NaN             DEFAULT   \n",
      "\n",
      "                           ucaf                     updated use_reward  \\\n",
      "0                          None  2024-01-11 08:33:45.277000       None   \n",
      "1                          None  2024-01-11 13:57:04.346000       None   \n",
      "2  kEM/zwFAmkxj9nfKNgEtlGalR/de  2024-01-11 14:49:25.215000       None   \n",
      "3                          None  2024-01-11 03:15:23.680000       None   \n",
      "4  kBP8zKZL82x0y0/eC59+g2CBlHxG  2024-01-11 10:29:36.368000       None   \n",
      "\n",
      "                    dt  \n",
      "0  2024-01-11 00:00:00  \n",
      "1  2024-01-11 00:00:00  \n",
      "2  2024-01-11 00:00:00  \n",
      "3  2024-01-11 00:00:00  \n",
      "4  2024-01-11 00:00:00  \n",
      "\n",
      "[5 rows x 50 columns]\n",
      "                         id  amount authentication_type  \\\n",
      "0  6597bac650222d00165f1ed8  1050.0           UNBUNDLED   \n",
      "1  6597bac704b0e000168abc93  1940.0           UNBUNDLED   \n",
      "2  6597bac750222d00165f1eda  1940.0           UNBUNDLED   \n",
      "3  6597bac7b442c50017baf8c9  1899.0             BUNDLED   \n",
      "4  6597bac8509e62001676afa7    99.0             BUNDLED   \n",
      "\n",
      "                business_id                     card_bank  card_brand  \\\n",
      "0  60514c68c326d1411a87bd83                      CITIBANK        VISA   \n",
      "1  632c70edcab6621c5b1ed099                CITIBANK, N.A.  MASTERCARD   \n",
      "2  632c70edcab6621c5b1ed099                CITIBANK, N.A.  MASTERCARD   \n",
      "3  640fdf71d95a90ebc209167d  UNIONBANK OF THE PHILIPPINES  MASTERCARD   \n",
      "4  640fdf71d95a90ebc209167d     SECURITY BANK CORPORATION  MASTERCARD   \n",
      "\n",
      "   card_expiration_month  card_expiration_year                          cavv  \\\n",
      "0                     10                  2027  AAIBAZYwVAAAAZooYIAFdQAAAAA=   \n",
      "1                      1                  2024                          None   \n",
      "2                      1                  2024                          None   \n",
      "3                      6                  2024  kBOiwhJ+2kmhu1PuC59+g2CBcBS9   \n",
      "4                      9                  2028  kBME7Em6wMGBsSasC59+g2CBs2a/   \n",
      "\n",
      "   client_id  ... eci eci_raw external_id           failure_reason  \\\n",
      "0  undefined  ...  05      05        None                     None   \n",
      "1       None  ...  00      00        None  AUTHENTICATION_REJECTED   \n",
      "2       None  ...  00      00        None  AUTHENTICATION_REJECTED   \n",
      "3       None  ...  02      02        None                     None   \n",
      "4       None  ...  02      02        None                     None   \n",
      "\n",
      "        ip_address is_enrolled  status                     updated cof_type  \\\n",
      "0   110.54.142.145         1.0    USED  2024-01-05 08:16:51.945000     None   \n",
      "1  138.124.146.125         0.0  FAILED  2024-01-05 08:16:13.973000     None   \n",
      "2   172.85.105.141         0.0  FAILED  2024-01-05 08:16:13.382000     None   \n",
      "3             None         NaN    USED  2024-01-05 08:16:49.017000     None   \n",
      "4             None         NaN    USED  2024-01-05 08:16:40.771000     None   \n",
      "\n",
      "                    dt  \n",
      "0  2024-01-05 00:00:00  \n",
      "1  2024-01-05 00:00:00  \n",
      "2  2024-01-05 00:00:00  \n",
      "3  2024-01-05 00:00:00  \n",
      "4  2024-01-05 00:00:00  \n",
      "\n",
      "[5 rows x 30 columns]\n"
     ]
    }
   ],
   "source": [
    "# Query data for January\n",
    "query = \"\"\"\n",
    "SELECT * FROM data\n",
    "WHERE created BETWEEN '2024-01-01' AND '2024-01-31'\n",
    "\"\"\"\n",
    "\n",
    "with sqlite3.connect(db_df) as conn:\n",
    "    df_january = pd.read_sql_query(query, conn)\n",
    "\n",
    "print(df_january.head())\n",
    "\n",
    "# Similarly, for the authenticated_data database\n",
    "query_auth = \"\"\"\n",
    "SELECT * FROM authenticated_data\n",
    "WHERE created BETWEEN '2024-01-01' AND '2024-01-31'\n",
    "\"\"\"\n",
    "\n",
    "with sqlite3.connect(db_df_auth) as conn:\n",
    "    df_auth_january = pd.read_sql_query(query_auth, conn)\n",
    "\n",
    "print(df_auth_january.head())"
   ]
  },
  {
   "cell_type": "code",
   "execution_count": 36,
   "metadata": {},
   "outputs": [
    {
     "name": "stdout",
     "output_type": "stream",
     "text": [
      "Tables have been merged and stored in the new SQLite database.\n"
     ]
    }
   ],
   "source": [
    "merged_db = 'merged_data.db'\n",
    "\n",
    "# Connect to the new database (which will also attach the other databases)\n",
    "with sqlite3.connect(merged_db) as conn:\n",
    "    # Attach the other databases\n",
    "    conn.execute(f\"ATTACH DATABASE '{db_df}' AS data_db\")\n",
    "    conn.execute(f\"ATTACH DATABASE '{db_df_auth}' AS auth_db\")\n",
    "    \n",
    "    # Create a new table with merged data\n",
    "    conn.execute('''\n",
    "    CREATE TABLE merged_data AS\n",
    "    SELECT *\n",
    "    FROM data_db.data\n",
    "    LEFT JOIN auth_db.authenticated_data\n",
    "    ON data_db.data.credit_card_token_id = auth_db.authenticated_data.credit_card_token_id\n",
    "    UNION\n",
    "    SELECT *\n",
    "    FROM auth_db.authenticated_data\n",
    "    LEFT JOIN data_db.data\n",
    "    ON auth_db.authenticated_data.credit_card_token_id = data_db.data.credit_card_token_id;\n",
    "    ''')\n",
    "\n",
    "    # Commit the changes\n",
    "    conn.commit()\n",
    "\n",
    "print(\"Tables have been merged and stored in the new SQLite database.\")"
   ]
  },
  {
   "cell_type": "code",
   "execution_count": 38,
   "metadata": {},
   "outputs": [],
   "source": [
    "# Connect to the merged database and query the data\n",
    "with sqlite3.connect(merged_db) as conn:\n",
    "    query = \"SELECT * FROM merged_data;\"\n",
    "    df = pd.read_sql_query(query, conn)"
   ]
  },
  {
   "cell_type": "code",
   "execution_count": 40,
   "metadata": {},
   "outputs": [
    {
     "data": {
      "text/plain": [
       "(926437, 80)"
      ]
     },
     "execution_count": 40,
     "metadata": {},
     "output_type": "execute_result"
    }
   ],
   "source": []
  }
 ],
 "metadata": {
  "kernelspec": {
   "display_name": "Python 3",
   "language": "python",
   "name": "python3"
  },
  "language_info": {
   "codemirror_mode": {
    "name": "ipython",
    "version": 3
   },
   "file_extension": ".py",
   "mimetype": "text/x-python",
   "name": "python",
   "nbconvert_exporter": "python",
   "pygments_lexer": "ipython3",
   "version": "3.12.3"
  }
 },
 "nbformat": 4,
 "nbformat_minor": 2
}
